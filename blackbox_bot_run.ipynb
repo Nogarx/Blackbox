{
 "cells": [
  {
   "cell_type": "code",
   "execution_count": 1,
   "id": "e654174a-a88b-4e2e-8e5b-a2e82263a519",
   "metadata": {},
   "outputs": [],
   "source": [
    "import os\n",
    "import sys\n",
    "import ray\n",
    "from blackbox_bot import BotsHandler\n",
    "\n",
    "def run_bots(size, num_workers, output_folder, stepsize, prewarm, revert, reset_after_step):\n",
    "    assert not (revert and reset_after_step), '\"revert\" and \"reset_after_step\" cannot be True at the since time.'\n",
    "    ray.init()\n",
    "    bots_handler = BotsHandler(size, num_workers, output_folder=output_folder, stepsize=stepsize, prewarm=prewarm, revert=revert, reset_after_step=reset_after_step)\n",
    "    bots_handler.collect()\n",
    "    ray.shutdown()"
   ]
  },
  {
   "cell_type": "code",
   "execution_count": 4,
   "id": "9c210963-945d-4050-a887-f54a4a919a7e",
   "metadata": {},
   "outputs": [
    {
     "name": "stderr",
     "output_type": "stream",
     "text": [
      "2023-10-01 12:56:24,946\tINFO worker.py:1621 -- Started a local Ray instance.\n"
     ]
    },
    {
     "data": {
      "application/vnd.jupyter.widget-view+json": {
       "model_id": "7f044ad91d9c41938ee262a46d2f71af",
       "version_major": 2,
       "version_minor": 0
      },
      "text/plain": [
       "(pid=19237) Collecting 7:   0%|          | 0/10000 [00:00<?, ?it/s]"
      ]
     },
     "metadata": {},
     "output_type": "display_data"
    },
    {
     "data": {
      "application/vnd.jupyter.widget-view+json": {
       "model_id": "05cbf58a73ad4b17ab4dd23424a1b776",
       "version_major": 2,
       "version_minor": 0
      },
      "text/plain": [
       "(pid=19233) Collecting 4:   0%|          | 0/10000 [00:00<?, ?it/s]"
      ]
     },
     "metadata": {},
     "output_type": "display_data"
    },
    {
     "data": {
      "application/vnd.jupyter.widget-view+json": {
       "model_id": "e27757252e1d4f528da1ffebc5000306",
       "version_major": 2,
       "version_minor": 0
      },
      "text/plain": [
       "(pid=19235) Collecting 6:   0%|          | 0/10000 [00:00<?, ?it/s]"
      ]
     },
     "metadata": {},
     "output_type": "display_data"
    },
    {
     "data": {
      "application/vnd.jupyter.widget-view+json": {
       "model_id": "bba4080b3cee46778fffcf7af82d8588",
       "version_major": 2,
       "version_minor": 0
      },
      "text/plain": [
       "(pid=19231) Collecting 2:   0%|          | 0/10000 [00:00<?, ?it/s]"
      ]
     },
     "metadata": {},
     "output_type": "display_data"
    },
    {
     "data": {
      "application/vnd.jupyter.widget-view+json": {
       "model_id": "1fcf6313f8c94a77b920e1613682a8ab",
       "version_major": 2,
       "version_minor": 0
      },
      "text/plain": [
       "(pid=19247) Collecting 16:   0%|          | 0/10000 [00:00<?, ?it/s]"
      ]
     },
     "metadata": {},
     "output_type": "display_data"
    },
    {
     "data": {
      "application/vnd.jupyter.widget-view+json": {
       "model_id": "749d2f4b328b49d2812d7fe7601d2aab",
       "version_major": 2,
       "version_minor": 0
      },
      "text/plain": [
       "(pid=19241) Collecting 10:   0%|          | 0/10000 [00:00<?, ?it/s]"
      ]
     },
     "metadata": {},
     "output_type": "display_data"
    },
    {
     "data": {
      "application/vnd.jupyter.widget-view+json": {
       "model_id": "774b5f8f187f4633814ee2319956fbe6",
       "version_major": 2,
       "version_minor": 0
      },
      "text/plain": [
       "(pid=19238) Collecting 8:   0%|          | 0/10000 [00:00<?, ?it/s]"
      ]
     },
     "metadata": {},
     "output_type": "display_data"
    },
    {
     "data": {
      "application/vnd.jupyter.widget-view+json": {
       "model_id": "90f0b3c812d14ae995d4c3bd36df66e6",
       "version_major": 2,
       "version_minor": 0
      },
      "text/plain": [
       "(pid=19240) Collecting 9:   0%|          | 0/10000 [00:00<?, ?it/s]"
      ]
     },
     "metadata": {},
     "output_type": "display_data"
    },
    {
     "data": {
      "application/vnd.jupyter.widget-view+json": {
       "model_id": "f35a741d82084dea870d3e40b3d12216",
       "version_major": 2,
       "version_minor": 0
      },
      "text/plain": [
       "(pid=19253) Collecting 22:   0%|          | 0/10000 [00:00<?, ?it/s]"
      ]
     },
     "metadata": {},
     "output_type": "display_data"
    },
    {
     "data": {
      "application/vnd.jupyter.widget-view+json": {
       "model_id": "87a866cd8f9a4bdbba8bb937f00a1e64",
       "version_major": 2,
       "version_minor": 0
      },
      "text/plain": [
       "(pid=19262) Collecting 30:   0%|          | 0/10000 [00:00<?, ?it/s]"
      ]
     },
     "metadata": {},
     "output_type": "display_data"
    },
    {
     "data": {
      "application/vnd.jupyter.widget-view+json": {
       "model_id": "6e8d2741746846deb10955d2b22b6470",
       "version_major": 2,
       "version_minor": 0
      },
      "text/plain": [
       "(pid=19254) Collecting 23:   0%|          | 0/10000 [00:00<?, ?it/s]"
      ]
     },
     "metadata": {},
     "output_type": "display_data"
    },
    {
     "data": {
      "application/vnd.jupyter.widget-view+json": {
       "model_id": "c6e5367f81314ea4b99e6b38f7013ddc",
       "version_major": 2,
       "version_minor": 0
      },
      "text/plain": [
       "(pid=19249) Collecting 18:   0%|          | 0/10000 [00:00<?, ?it/s]"
      ]
     },
     "metadata": {},
     "output_type": "display_data"
    },
    {
     "data": {
      "application/vnd.jupyter.widget-view+json": {
       "model_id": "ad11b71a5ec74a968f89d5c797e3fee1",
       "version_major": 2,
       "version_minor": 0
      },
      "text/plain": [
       "(pid=19256) Collecting 25:   0%|          | 0/10000 [00:00<?, ?it/s]"
      ]
     },
     "metadata": {},
     "output_type": "display_data"
    },
    {
     "data": {
      "application/vnd.jupyter.widget-view+json": {
       "model_id": "7d880b00cfba412c9f515bd67a3d7283",
       "version_major": 2,
       "version_minor": 0
      },
      "text/plain": [
       "(pid=19243) Collecting 12:   0%|          | 0/10000 [00:00<?, ?it/s]"
      ]
     },
     "metadata": {},
     "output_type": "display_data"
    },
    {
     "data": {
      "application/vnd.jupyter.widget-view+json": {
       "model_id": "233702ca2dbb48e887b97d9bb62487fe",
       "version_major": 2,
       "version_minor": 0
      },
      "text/plain": [
       "(pid=19229) Collecting 1:   0%|          | 0/10000 [00:00<?, ?it/s]"
      ]
     },
     "metadata": {},
     "output_type": "display_data"
    },
    {
     "data": {
      "application/vnd.jupyter.widget-view+json": {
       "model_id": "69b990f98f2542d192fc69e622027acb",
       "version_major": 2,
       "version_minor": 0
      },
      "text/plain": [
       "(pid=19257) Collecting 27:   0%|          | 0/10000 [00:00<?, ?it/s]"
      ]
     },
     "metadata": {},
     "output_type": "display_data"
    },
    {
     "data": {
      "application/vnd.jupyter.widget-view+json": {
       "model_id": "7e490af502cf494babb612f3cf48a0c4",
       "version_major": 2,
       "version_minor": 0
      },
      "text/plain": [
       "(pid=19260) Collecting 28:   0%|          | 0/10000 [00:00<?, ?it/s]"
      ]
     },
     "metadata": {},
     "output_type": "display_data"
    },
    {
     "data": {
      "application/vnd.jupyter.widget-view+json": {
       "model_id": "88790dc5b9154386b0148070ed634f82",
       "version_major": 2,
       "version_minor": 0
      },
      "text/plain": [
       "(pid=19234) Collecting 5:   0%|          | 0/10000 [00:00<?, ?it/s]"
      ]
     },
     "metadata": {},
     "output_type": "display_data"
    },
    {
     "data": {
      "application/vnd.jupyter.widget-view+json": {
       "model_id": "bc3d2e186463499d8a29388382d34ab3",
       "version_major": 2,
       "version_minor": 0
      },
      "text/plain": [
       "(pid=19263) Collecting 31:   0%|          | 0/10000 [00:00<?, ?it/s]"
      ]
     },
     "metadata": {},
     "output_type": "display_data"
    },
    {
     "data": {
      "application/vnd.jupyter.widget-view+json": {
       "model_id": "623fb20a8cf54d99a14e5a25a6d60ed3",
       "version_major": 2,
       "version_minor": 0
      },
      "text/plain": [
       "(pid=19244) Collecting 13:   0%|          | 0/10000 [00:00<?, ?it/s]"
      ]
     },
     "metadata": {},
     "output_type": "display_data"
    },
    {
     "data": {
      "application/vnd.jupyter.widget-view+json": {
       "model_id": "671ff5cfacce4e70841caf54ccbfb7a7",
       "version_major": 2,
       "version_minor": 0
      },
      "text/plain": [
       "(pid=19252) Collecting 21:   0%|          | 0/10000 [00:00<?, ?it/s]"
      ]
     },
     "metadata": {},
     "output_type": "display_data"
    },
    {
     "data": {
      "application/vnd.jupyter.widget-view+json": {
       "model_id": "d718709528794e459f31b66e729b0b5b",
       "version_major": 2,
       "version_minor": 0
      },
      "text/plain": [
       "(pid=19250) Collecting 19:   0%|          | 0/10000 [00:00<?, ?it/s]"
      ]
     },
     "metadata": {},
     "output_type": "display_data"
    },
    {
     "data": {
      "application/vnd.jupyter.widget-view+json": {
       "model_id": "f70668f673e04d0694833b4bdf10d8af",
       "version_major": 2,
       "version_minor": 0
      },
      "text/plain": [
       "(pid=19251) Collecting 20:   0%|          | 0/10000 [00:00<?, ?it/s]"
      ]
     },
     "metadata": {},
     "output_type": "display_data"
    },
    {
     "data": {
      "application/vnd.jupyter.widget-view+json": {
       "model_id": "576725bbdd894d3c9f311957634e85bb",
       "version_major": 2,
       "version_minor": 0
      },
      "text/plain": [
       "(pid=19232) Collecting 3:   0%|          | 0/10000 [00:00<?, ?it/s]"
      ]
     },
     "metadata": {},
     "output_type": "display_data"
    },
    {
     "data": {
      "application/vnd.jupyter.widget-view+json": {
       "model_id": "75043a06bf0a469c87dd6e71088e28f0",
       "version_major": 2,
       "version_minor": 0
      },
      "text/plain": [
       "(pid=19242) Collecting 11:   0%|          | 0/10000 [00:00<?, ?it/s]"
      ]
     },
     "metadata": {},
     "output_type": "display_data"
    },
    {
     "data": {
      "application/vnd.jupyter.widget-view+json": {
       "model_id": "0342a6fdd66b48e5ad9dd731207421f6",
       "version_major": 2,
       "version_minor": 0
      },
      "text/plain": [
       "(pid=19245) Collecting 14:   0%|          | 0/10000 [00:00<?, ?it/s]"
      ]
     },
     "metadata": {},
     "output_type": "display_data"
    },
    {
     "data": {
      "application/vnd.jupyter.widget-view+json": {
       "model_id": "8339d05420db439dbe363178aec2a441",
       "version_major": 2,
       "version_minor": 0
      },
      "text/plain": [
       "(pid=19261) Collecting 29:   0%|          | 0/10000 [00:00<?, ?it/s]"
      ]
     },
     "metadata": {},
     "output_type": "display_data"
    },
    {
     "data": {
      "application/vnd.jupyter.widget-view+json": {
       "model_id": "cc33c10b8d864891bc74d4dbae0356e8",
       "version_major": 2,
       "version_minor": 0
      },
      "text/plain": [
       "(pid=19248) Collecting 17:   0%|          | 0/10000 [00:00<?, ?it/s]"
      ]
     },
     "metadata": {},
     "output_type": "display_data"
    },
    {
     "data": {
      "application/vnd.jupyter.widget-view+json": {
       "model_id": "6340a3c4ad8640bda5f86e27502c548a",
       "version_major": 2,
       "version_minor": 0
      },
      "text/plain": [
       "(pid=19246) Collecting 15:   0%|          | 0/10000 [00:00<?, ?it/s]"
      ]
     },
     "metadata": {},
     "output_type": "display_data"
    },
    {
     "data": {
      "application/vnd.jupyter.widget-view+json": {
       "model_id": "6c301e67a5ed4b05b7461306c3e60856",
       "version_major": 2,
       "version_minor": 0
      },
      "text/plain": [
       "(pid=19258) Collecting 26:   0%|          | 0/10000 [00:00<?, ?it/s]"
      ]
     },
     "metadata": {},
     "output_type": "display_data"
    },
    {
     "data": {
      "application/vnd.jupyter.widget-view+json": {
       "model_id": "a004e7531f7e450db0f4a87f6df97b3c",
       "version_major": 2,
       "version_minor": 0
      },
      "text/plain": [
       "(pid=19230) Collecting 0:   0%|          | 0/10000 [00:00<?, ?it/s]"
      ]
     },
     "metadata": {},
     "output_type": "display_data"
    },
    {
     "data": {
      "application/vnd.jupyter.widget-view+json": {
       "model_id": "b83cb77858d5429c90dcc6bb93cbb6ce",
       "version_major": 2,
       "version_minor": 0
      },
      "text/plain": [
       "(pid=19255) Collecting 24:   0%|          | 0/10000 [00:00<?, ?it/s]"
      ]
     },
     "metadata": {},
     "output_type": "display_data"
    },
    {
     "name": "stdout",
     "output_type": "stream",
     "text": [
      "\u001b[2m\u001b[36m(BlackBoxBot pid=19253)\u001b[0m BotID:22 \t File successfully saved at: blackbox_1_step_1696181417_bot_22\n",
      "\u001b[2m\u001b[36m(BlackBoxBot pid=19251)\u001b[0m BotID:20 \t File successfully saved at: blackbox_1_step_1696181425_bot_20\n",
      "\u001b[2m\u001b[36m(BlackBoxBot pid=19262)\u001b[0m BotID:30 \t File successfully saved at: blackbox_1_step_1696181436_bot_30\n",
      "\u001b[2m\u001b[36m(BlackBoxBot pid=19258)\u001b[0m BotID:26 \t File successfully saved at: blackbox_1_step_1696181440_bot_26\u001b[32m [repeated 3x across cluster]\u001b[0m\n",
      "\u001b[2m\u001b[36m(BlackBoxBot pid=19260)\u001b[0m BotID:28 \t File successfully saved at: blackbox_1_step_1696181445_bot_28\u001b[32m [repeated 3x across cluster]\u001b[0m\n",
      "\u001b[2m\u001b[36m(BlackBoxBot pid=19250)\u001b[0m BotID:19 \t File successfully saved at: blackbox_1_step_1696181450_bot_19\u001b[32m [repeated 2x across cluster]\u001b[0m\n",
      "\u001b[2m\u001b[36m(BlackBoxBot pid=19233)\u001b[0m BotID:4 \t File successfully saved at: blackbox_1_step_1696181455_bot_4\u001b[32m [repeated 4x across cluster]\u001b[0m\n",
      "\u001b[2m\u001b[36m(BlackBoxBot pid=19238)\u001b[0m BotID:8 \t File successfully saved at: blackbox_1_step_1696181460_bot_8\u001b[32m [repeated 4x across cluster]\u001b[0m\n",
      "\u001b[2m\u001b[36m(BlackBoxBot pid=19242)\u001b[0m BotID:11 \t File successfully saved at: blackbox_1_step_1696181466_bot_11\u001b[32m [repeated 6x across cluster]\u001b[0m\n",
      "\u001b[2m\u001b[36m(BlackBoxBot pid=19255)\u001b[0m BotID:24 \t File successfully saved at: blackbox_1_step_1696181471_bot_24\u001b[32m [repeated 5x across cluster]\u001b[0m\n",
      "\u001b[2m\u001b[36m(BlackBoxBot pid=19257)\u001b[0m BotID:27 \t File successfully saved at: blackbox_1_step_1696181472_bot_27\n"
     ]
    }
   ],
   "source": [
    "run_bots(10000, 32, './data/revert_one_step_prewarm_0/', 1, 0, True, False)"
   ]
  },
  {
   "cell_type": "code",
   "execution_count": null,
   "id": "ccb6585d-66a3-4c65-a645-1900d835f59c",
   "metadata": {},
   "outputs": [],
   "source": []
  }
 ],
 "metadata": {
  "kernelspec": {
   "display_name": "Python 3 (ipykernel)",
   "language": "python",
   "name": "python3"
  },
  "language_info": {
   "codemirror_mode": {
    "name": "ipython",
    "version": 3
   },
   "file_extension": ".py",
   "mimetype": "text/x-python",
   "name": "python",
   "nbconvert_exporter": "python",
   "pygments_lexer": "ipython3",
   "version": "3.10.12"
  }
 },
 "nbformat": 4,
 "nbformat_minor": 5
}
